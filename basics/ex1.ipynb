%matplotlib inline
import numpy as np
import matplotlib.pyplot as plt
datafile = './ex1data1.txt'
cols = np.loadtxt(datafile,delimiter=',',usecols=(0,1),unpack=True)
#creating "X" matrix and "y" vector
X = np.transpose(np.array(cols[:-1]))
y = np.transpose(np.array(cols[-1:]))
m = y.size
X = np.insert(X,0,1,axis = 1)
plt.figure(figsize=(10,6))
plt.plot(X[:,1],y[:,0],'rx',markersize=10)
plt.grid(True)#This should always be true
#create x and y axis labels
plt.ylabel('Profit in $10,000s')
plt.xlabel('Population of city in 10,000s')
